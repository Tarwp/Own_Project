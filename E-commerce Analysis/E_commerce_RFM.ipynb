{
  "nbformat": 4,
  "nbformat_minor": 0,
  "metadata": {
    "colab": {
      "name": "E-commerce_RFM.ipynb",
      "provenance": [],
      "collapsed_sections": []
    },
    "kernelspec": {
      "name": "python3",
      "display_name": "Python 3"
    }
  },
  "cells": [
    {
      "cell_type": "markdown",
      "metadata": {
        "id": "3SOknyjFNHz5"
      },
      "source": [
        "This notebook we will analyze customer behavior and identify customer segment by using RFM analysis.\n",
        "**RFM** is the solution for identify customer segment by using historical transaction which consisted of 3 main variable.\n",
        "*   Recency : Last time that users has made purchase.\n",
        "*   Frequency : Total number of transaction which users made.\n",
        "*   Monetary : Total or average transaction value.\n",
        "\n",
        "\n",
        "\n",
        "\n"
      ]
    },
    {
      "cell_type": "code",
      "metadata": {
        "id": "tINyF-7pLfMi"
      },
      "source": [
        "import pandas as pd \n",
        "import numpy as np \n",
        "import squarify\n",
        "import matplotlib.pyplot as plt\n",
        "import seaborn as sns \n",
        "import datetime as dt\n",
        "%matplotlib inline"
      ],
      "execution_count": null,
      "outputs": []
    },
    {
      "cell_type": "code",
      "metadata": {
        "id": "Q_7gYc08pRY_",
        "colab": {
          "base_uri": "https://localhost:8080/"
        },
        "outputId": "53842f55-4daf-4bae-c6f5-6323e1696807"
      },
      "source": [
        "!pip install squarify"
      ],
      "execution_count": null,
      "outputs": [
        {
          "output_type": "stream",
          "text": [
            "Collecting squarify\n",
            "  Downloading https://files.pythonhosted.org/packages/0b/2b/2e77c35326efec19819cd1d729540d4d235e6c2a3f37658288a363a67da5/squarify-0.4.3-py3-none-any.whl\n",
            "Installing collected packages: squarify\n",
            "Successfully installed squarify-0.4.3\n"
          ],
          "name": "stdout"
        }
      ]
    },
    {
      "cell_type": "code",
      "metadata": {
        "id": "HJ3RX5aAMwGG"
      },
      "source": [
        "df = pd.read_excel('Online_Retail.xlsx')"
      ],
      "execution_count": null,
      "outputs": []
    },
    {
      "cell_type": "code",
      "metadata": {
        "id": "gGSnc5BcNIJt"
      },
      "source": [
        "df.dropna(subset= ['CustomerID'], inplace= True)"
      ],
      "execution_count": null,
      "outputs": []
    },
    {
      "cell_type": "code",
      "metadata": {
        "id": "of43GSAUNT-H"
      },
      "source": [
        "## Take the void transaction out\n",
        "df = df[(df['Quantity'] > 0) & (df['UnitPrice'] > 0)]"
      ],
      "execution_count": null,
      "outputs": []
    },
    {
      "cell_type": "code",
      "metadata": {
        "id": "h_yPCTnqN2K1"
      },
      "source": [
        "## Make Totalprice column\n",
        "df['TotalPrice'] = df['Quantity'] * df['UnitPrice']"
      ],
      "execution_count": null,
      "outputs": []
    },
    {
      "cell_type": "code",
      "metadata": {
        "id": "zUkZmaw4Niaq",
        "colab": {
          "base_uri": "https://localhost:8080/",
          "height": 359
        },
        "outputId": "2ae21a09-a884-40fc-afeb-0d96d422ce4b"
      },
      "source": [
        "df.sample(10)"
      ],
      "execution_count": null,
      "outputs": [
        {
          "output_type": "execute_result",
          "data": {
            "text/html": [
              "<div>\n",
              "<style scoped>\n",
              "    .dataframe tbody tr th:only-of-type {\n",
              "        vertical-align: middle;\n",
              "    }\n",
              "\n",
              "    .dataframe tbody tr th {\n",
              "        vertical-align: top;\n",
              "    }\n",
              "\n",
              "    .dataframe thead th {\n",
              "        text-align: right;\n",
              "    }\n",
              "</style>\n",
              "<table border=\"1\" class=\"dataframe\">\n",
              "  <thead>\n",
              "    <tr style=\"text-align: right;\">\n",
              "      <th></th>\n",
              "      <th>InvoiceNo</th>\n",
              "      <th>StockCode</th>\n",
              "      <th>Description</th>\n",
              "      <th>Quantity</th>\n",
              "      <th>InvoiceDate</th>\n",
              "      <th>UnitPrice</th>\n",
              "      <th>CustomerID</th>\n",
              "      <th>Country</th>\n",
              "      <th>TotalPrice</th>\n",
              "    </tr>\n",
              "  </thead>\n",
              "  <tbody>\n",
              "    <tr>\n",
              "      <th>145093</th>\n",
              "      <td>548867</td>\n",
              "      <td>22084</td>\n",
              "      <td>PAPER CHAIN KIT EMPIRE</td>\n",
              "      <td>4</td>\n",
              "      <td>2011-04-04 14:17:00</td>\n",
              "      <td>2.95</td>\n",
              "      <td>14719.0</td>\n",
              "      <td>United Kingdom</td>\n",
              "      <td>11.80</td>\n",
              "    </tr>\n",
              "    <tr>\n",
              "      <th>81030</th>\n",
              "      <td>543107</td>\n",
              "      <td>21700</td>\n",
              "      <td>BIG DOUGHNUT FRIDGE MAGNETS</td>\n",
              "      <td>12</td>\n",
              "      <td>2011-02-03 12:27:00</td>\n",
              "      <td>0.85</td>\n",
              "      <td>13800.0</td>\n",
              "      <td>United Kingdom</td>\n",
              "      <td>10.20</td>\n",
              "    </tr>\n",
              "    <tr>\n",
              "      <th>393421</th>\n",
              "      <td>570827</td>\n",
              "      <td>21912</td>\n",
              "      <td>VINTAGE SNAKES &amp; LADDERS</td>\n",
              "      <td>2</td>\n",
              "      <td>2011-10-12 13:14:00</td>\n",
              "      <td>3.75</td>\n",
              "      <td>15831.0</td>\n",
              "      <td>United Kingdom</td>\n",
              "      <td>7.50</td>\n",
              "    </tr>\n",
              "    <tr>\n",
              "      <th>284420</th>\n",
              "      <td>561871</td>\n",
              "      <td>21914</td>\n",
              "      <td>BLUE HARMONICA IN BOX</td>\n",
              "      <td>12</td>\n",
              "      <td>2011-07-31 11:46:00</td>\n",
              "      <td>1.25</td>\n",
              "      <td>13018.0</td>\n",
              "      <td>United Kingdom</td>\n",
              "      <td>15.00</td>\n",
              "    </tr>\n",
              "    <tr>\n",
              "      <th>226231</th>\n",
              "      <td>556784</td>\n",
              "      <td>21884</td>\n",
              "      <td>CAKES AND BOWS GIFT  TAPE</td>\n",
              "      <td>1</td>\n",
              "      <td>2011-06-14 13:15:00</td>\n",
              "      <td>0.65</td>\n",
              "      <td>14461.0</td>\n",
              "      <td>United Kingdom</td>\n",
              "      <td>0.65</td>\n",
              "    </tr>\n",
              "    <tr>\n",
              "      <th>357406</th>\n",
              "      <td>568094</td>\n",
              "      <td>21238</td>\n",
              "      <td>RED RETROSPOT CUP</td>\n",
              "      <td>8</td>\n",
              "      <td>2011-09-23 14:43:00</td>\n",
              "      <td>0.85</td>\n",
              "      <td>15807.0</td>\n",
              "      <td>United Kingdom</td>\n",
              "      <td>6.80</td>\n",
              "    </tr>\n",
              "    <tr>\n",
              "      <th>455436</th>\n",
              "      <td>575621</td>\n",
              "      <td>82582</td>\n",
              "      <td>AREA PATROLLED METAL SIGN</td>\n",
              "      <td>1</td>\n",
              "      <td>2011-11-10 13:03:00</td>\n",
              "      <td>2.10</td>\n",
              "      <td>16892.0</td>\n",
              "      <td>United Kingdom</td>\n",
              "      <td>2.10</td>\n",
              "    </tr>\n",
              "    <tr>\n",
              "      <th>65977</th>\n",
              "      <td>541709</td>\n",
              "      <td>22499</td>\n",
              "      <td>WOODEN UNION JACK BUNTING</td>\n",
              "      <td>3</td>\n",
              "      <td>2011-01-21 11:09:00</td>\n",
              "      <td>5.95</td>\n",
              "      <td>17504.0</td>\n",
              "      <td>United Kingdom</td>\n",
              "      <td>17.85</td>\n",
              "    </tr>\n",
              "    <tr>\n",
              "      <th>352418</th>\n",
              "      <td>567672</td>\n",
              "      <td>23334</td>\n",
              "      <td>IVORY WICKER HEART SMALL</td>\n",
              "      <td>6</td>\n",
              "      <td>2011-09-21 15:39:00</td>\n",
              "      <td>0.63</td>\n",
              "      <td>16085.0</td>\n",
              "      <td>United Kingdom</td>\n",
              "      <td>3.78</td>\n",
              "    </tr>\n",
              "    <tr>\n",
              "      <th>59691</th>\n",
              "      <td>541405</td>\n",
              "      <td>84692</td>\n",
              "      <td>BOX OF 24 COCKTAIL PARASOLS</td>\n",
              "      <td>25</td>\n",
              "      <td>2011-01-17 15:17:00</td>\n",
              "      <td>0.42</td>\n",
              "      <td>12683.0</td>\n",
              "      <td>France</td>\n",
              "      <td>10.50</td>\n",
              "    </tr>\n",
              "  </tbody>\n",
              "</table>\n",
              "</div>"
            ],
            "text/plain": [
              "       InvoiceNo StockCode  ...         Country  TotalPrice\n",
              "145093    548867     22084  ...  United Kingdom       11.80\n",
              "81030     543107     21700  ...  United Kingdom       10.20\n",
              "393421    570827     21912  ...  United Kingdom        7.50\n",
              "284420    561871     21914  ...  United Kingdom       15.00\n",
              "226231    556784     21884  ...  United Kingdom        0.65\n",
              "357406    568094     21238  ...  United Kingdom        6.80\n",
              "455436    575621     82582  ...  United Kingdom        2.10\n",
              "65977     541709     22499  ...  United Kingdom       17.85\n",
              "352418    567672     23334  ...  United Kingdom        3.78\n",
              "59691     541405     84692  ...          France       10.50\n",
              "\n",
              "[10 rows x 9 columns]"
            ]
          },
          "metadata": {
            "tags": []
          },
          "execution_count": 26
        }
      ]
    },
    {
      "cell_type": "code",
      "metadata": {
        "id": "duvS2FfUOEwg"
      },
      "source": [
        "## Choose onle needed feature\n",
        "df_rfm = df[['CustomerID', 'InvoiceDate', 'InvoiceNo', 'TotalPrice']]"
      ],
      "execution_count": null,
      "outputs": []
    },
    {
      "cell_type": "code",
      "metadata": {
        "id": "miskifENRdcF",
        "colab": {
          "base_uri": "https://localhost:8080/",
          "height": 359
        },
        "outputId": "f701b46d-a9ab-4230-83f8-ee34d9751720"
      },
      "source": [
        "df_rfm.sample(10)"
      ],
      "execution_count": null,
      "outputs": [
        {
          "output_type": "execute_result",
          "data": {
            "text/html": [
              "<div>\n",
              "<style scoped>\n",
              "    .dataframe tbody tr th:only-of-type {\n",
              "        vertical-align: middle;\n",
              "    }\n",
              "\n",
              "    .dataframe tbody tr th {\n",
              "        vertical-align: top;\n",
              "    }\n",
              "\n",
              "    .dataframe thead th {\n",
              "        text-align: right;\n",
              "    }\n",
              "</style>\n",
              "<table border=\"1\" class=\"dataframe\">\n",
              "  <thead>\n",
              "    <tr style=\"text-align: right;\">\n",
              "      <th></th>\n",
              "      <th>CustomerID</th>\n",
              "      <th>InvoiceDate</th>\n",
              "      <th>InvoiceNo</th>\n",
              "      <th>TotalPrice</th>\n",
              "    </tr>\n",
              "  </thead>\n",
              "  <tbody>\n",
              "    <tr>\n",
              "      <th>487936</th>\n",
              "      <td>16369.0</td>\n",
              "      <td>2011-11-21 16:25:00</td>\n",
              "      <td>577785</td>\n",
              "      <td>12.45</td>\n",
              "    </tr>\n",
              "    <tr>\n",
              "      <th>214222</th>\n",
              "      <td>17589.0</td>\n",
              "      <td>2011-06-05 15:25:00</td>\n",
              "      <td>555568</td>\n",
              "      <td>2.55</td>\n",
              "    </tr>\n",
              "    <tr>\n",
              "      <th>338101</th>\n",
              "      <td>15529.0</td>\n",
              "      <td>2011-09-13 11:14:00</td>\n",
              "      <td>566495</td>\n",
              "      <td>4.95</td>\n",
              "    </tr>\n",
              "    <tr>\n",
              "      <th>530029</th>\n",
              "      <td>16015.0</td>\n",
              "      <td>2011-12-06 10:58:00</td>\n",
              "      <td>580771</td>\n",
              "      <td>1.14</td>\n",
              "    </tr>\n",
              "    <tr>\n",
              "      <th>266997</th>\n",
              "      <td>14198.0</td>\n",
              "      <td>2011-07-17 15:47:00</td>\n",
              "      <td>560279</td>\n",
              "      <td>15.00</td>\n",
              "    </tr>\n",
              "    <tr>\n",
              "      <th>30044</th>\n",
              "      <td>16033.0</td>\n",
              "      <td>2010-12-14 13:18:00</td>\n",
              "      <td>538843</td>\n",
              "      <td>4.95</td>\n",
              "    </tr>\n",
              "    <tr>\n",
              "      <th>422681</th>\n",
              "      <td>12626.0</td>\n",
              "      <td>2011-10-27 15:05:00</td>\n",
              "      <td>573106</td>\n",
              "      <td>16.50</td>\n",
              "    </tr>\n",
              "    <tr>\n",
              "      <th>37840</th>\n",
              "      <td>15640.0</td>\n",
              "      <td>2010-12-19 15:44:00</td>\n",
              "      <td>539484</td>\n",
              "      <td>1.95</td>\n",
              "    </tr>\n",
              "    <tr>\n",
              "      <th>143186</th>\n",
              "      <td>13124.0</td>\n",
              "      <td>2011-04-01 14:58:00</td>\n",
              "      <td>548666</td>\n",
              "      <td>34.80</td>\n",
              "    </tr>\n",
              "    <tr>\n",
              "      <th>291057</th>\n",
              "      <td>15241.0</td>\n",
              "      <td>2011-08-04 16:41:00</td>\n",
              "      <td>562421</td>\n",
              "      <td>2.88</td>\n",
              "    </tr>\n",
              "  </tbody>\n",
              "</table>\n",
              "</div>"
            ],
            "text/plain": [
              "        CustomerID         InvoiceDate InvoiceNo  TotalPrice\n",
              "487936     16369.0 2011-11-21 16:25:00    577785       12.45\n",
              "214222     17589.0 2011-06-05 15:25:00    555568        2.55\n",
              "338101     15529.0 2011-09-13 11:14:00    566495        4.95\n",
              "530029     16015.0 2011-12-06 10:58:00    580771        1.14\n",
              "266997     14198.0 2011-07-17 15:47:00    560279       15.00\n",
              "30044      16033.0 2010-12-14 13:18:00    538843        4.95\n",
              "422681     12626.0 2011-10-27 15:05:00    573106       16.50\n",
              "37840      15640.0 2010-12-19 15:44:00    539484        1.95\n",
              "143186     13124.0 2011-04-01 14:58:00    548666       34.80\n",
              "291057     15241.0 2011-08-04 16:41:00    562421        2.88"
            ]
          },
          "metadata": {
            "tags": []
          },
          "execution_count": 28
        }
      ]
    },
    {
      "cell_type": "code",
      "metadata": {
        "id": "71yRIteYRiol"
      },
      "source": [
        "## Groupping by customerid and calculate RFM\n",
        "rfm= df_rfm.groupby(['CustomerID']).agg({'InvoiceDate': lambda date: (df['InvoiceDate'].max() + dt.timedelta(days=1) - date.max()).days,\n",
        "                                        'InvoiceNo': lambda num: len(num),\n",
        "                                        'TotalPrice': lambda price: price.sum()})"
      ],
      "execution_count": null,
      "outputs": []
    },
    {
      "cell_type": "code",
      "metadata": {
        "id": "GCPHYHygSV2S"
      },
      "source": [
        "rfm.columns = ['Recency', 'Frequency', 'Monetary']"
      ],
      "execution_count": null,
      "outputs": []
    },
    {
      "cell_type": "code",
      "metadata": {
        "id": "MF3GH-4hbask",
        "colab": {
          "base_uri": "https://localhost:8080/",
          "height": 450
        },
        "outputId": "113856bd-3c1b-4490-d6c3-a705b99d6626"
      },
      "source": [
        "rfm"
      ],
      "execution_count": null,
      "outputs": [
        {
          "output_type": "execute_result",
          "data": {
            "text/html": [
              "<div>\n",
              "<style scoped>\n",
              "    .dataframe tbody tr th:only-of-type {\n",
              "        vertical-align: middle;\n",
              "    }\n",
              "\n",
              "    .dataframe tbody tr th {\n",
              "        vertical-align: top;\n",
              "    }\n",
              "\n",
              "    .dataframe thead th {\n",
              "        text-align: right;\n",
              "    }\n",
              "</style>\n",
              "<table border=\"1\" class=\"dataframe\">\n",
              "  <thead>\n",
              "    <tr style=\"text-align: right;\">\n",
              "      <th></th>\n",
              "      <th>Recency</th>\n",
              "      <th>Frequency</th>\n",
              "      <th>Monetary</th>\n",
              "    </tr>\n",
              "    <tr>\n",
              "      <th>CustomerID</th>\n",
              "      <th></th>\n",
              "      <th></th>\n",
              "      <th></th>\n",
              "    </tr>\n",
              "  </thead>\n",
              "  <tbody>\n",
              "    <tr>\n",
              "      <th>12346.0</th>\n",
              "      <td>326</td>\n",
              "      <td>1</td>\n",
              "      <td>77183.60</td>\n",
              "    </tr>\n",
              "    <tr>\n",
              "      <th>12347.0</th>\n",
              "      <td>2</td>\n",
              "      <td>182</td>\n",
              "      <td>4310.00</td>\n",
              "    </tr>\n",
              "    <tr>\n",
              "      <th>12348.0</th>\n",
              "      <td>75</td>\n",
              "      <td>31</td>\n",
              "      <td>1797.24</td>\n",
              "    </tr>\n",
              "    <tr>\n",
              "      <th>12349.0</th>\n",
              "      <td>19</td>\n",
              "      <td>73</td>\n",
              "      <td>1757.55</td>\n",
              "    </tr>\n",
              "    <tr>\n",
              "      <th>12350.0</th>\n",
              "      <td>310</td>\n",
              "      <td>17</td>\n",
              "      <td>334.40</td>\n",
              "    </tr>\n",
              "    <tr>\n",
              "      <th>...</th>\n",
              "      <td>...</td>\n",
              "      <td>...</td>\n",
              "      <td>...</td>\n",
              "    </tr>\n",
              "    <tr>\n",
              "      <th>18280.0</th>\n",
              "      <td>278</td>\n",
              "      <td>10</td>\n",
              "      <td>180.60</td>\n",
              "    </tr>\n",
              "    <tr>\n",
              "      <th>18281.0</th>\n",
              "      <td>181</td>\n",
              "      <td>7</td>\n",
              "      <td>80.82</td>\n",
              "    </tr>\n",
              "    <tr>\n",
              "      <th>18282.0</th>\n",
              "      <td>8</td>\n",
              "      <td>12</td>\n",
              "      <td>178.05</td>\n",
              "    </tr>\n",
              "    <tr>\n",
              "      <th>18283.0</th>\n",
              "      <td>4</td>\n",
              "      <td>756</td>\n",
              "      <td>2094.88</td>\n",
              "    </tr>\n",
              "    <tr>\n",
              "      <th>18287.0</th>\n",
              "      <td>43</td>\n",
              "      <td>70</td>\n",
              "      <td>1837.28</td>\n",
              "    </tr>\n",
              "  </tbody>\n",
              "</table>\n",
              "<p>4338 rows × 3 columns</p>\n",
              "</div>"
            ],
            "text/plain": [
              "            Recency  Frequency  Monetary\n",
              "CustomerID                              \n",
              "12346.0         326          1  77183.60\n",
              "12347.0           2        182   4310.00\n",
              "12348.0          75         31   1797.24\n",
              "12349.0          19         73   1757.55\n",
              "12350.0         310         17    334.40\n",
              "...             ...        ...       ...\n",
              "18280.0         278         10    180.60\n",
              "18281.0         181          7     80.82\n",
              "18282.0           8         12    178.05\n",
              "18283.0           4        756   2094.88\n",
              "18287.0          43         70   1837.28\n",
              "\n",
              "[4338 rows x 3 columns]"
            ]
          },
          "metadata": {
            "tags": []
          },
          "execution_count": 79
        }
      ]
    },
    {
      "cell_type": "markdown",
      "metadata": {
        "id": "7nJK0PbyTkTu"
      },
      "source": [
        "Let's assign RFM score to each user from rank 1-4 where 4 is the highest score."
      ]
    },
    {
      "cell_type": "code",
      "metadata": {
        "id": "zdxriwMCdjsw"
      },
      "source": [
        "## Devide RFM score into 4 quarter\n",
        "r_labels = range(4, 0, -1)\n",
        "f_labels = range(1, 5)\n",
        "m_labels = range(1, 5)\n",
        "rfm['R'] = pd.qcut(rfm['Recency'], q= 4, labels= r_labels)\n",
        "rfm['F'] = pd.qcut(rfm['Frequency'], q= 4, labels= f_labels)\n",
        "rfm['M'] = pd.qcut(rfm['Monetary'], q= 4, labels= m_labels)"
      ],
      "execution_count": null,
      "outputs": []
    },
    {
      "cell_type": "code",
      "metadata": {
        "id": "No7x6XRxgYKR"
      },
      "source": [
        "rfm['RFM'] = rfm['R'].astype(str)+ rfm['F'].astype(str) + rfm['M'].astype(str)"
      ],
      "execution_count": null,
      "outputs": []
    },
    {
      "cell_type": "code",
      "metadata": {
        "id": "Mng-YF97jXJG"
      },
      "source": [
        "## Calculate the total RFM score and average RFM\n",
        "rfm['RFM_Score'] = rfm[['R', 'F', 'M']].sum(axis=1)\n",
        "rfm['RFM_Avg_Score'] = rfm['RFM_Score']/3"
      ],
      "execution_count": null,
      "outputs": []
    },
    {
      "cell_type": "code",
      "metadata": {
        "id": "yZvBBZEpjon7",
        "colab": {
          "base_uri": "https://localhost:8080/",
          "height": 450
        },
        "outputId": "006819bb-9ba0-4b9f-9bce-7777606b21fc"
      },
      "source": [
        "rfm"
      ],
      "execution_count": null,
      "outputs": [
        {
          "output_type": "execute_result",
          "data": {
            "text/html": [
              "<div>\n",
              "<style scoped>\n",
              "    .dataframe tbody tr th:only-of-type {\n",
              "        vertical-align: middle;\n",
              "    }\n",
              "\n",
              "    .dataframe tbody tr th {\n",
              "        vertical-align: top;\n",
              "    }\n",
              "\n",
              "    .dataframe thead th {\n",
              "        text-align: right;\n",
              "    }\n",
              "</style>\n",
              "<table border=\"1\" class=\"dataframe\">\n",
              "  <thead>\n",
              "    <tr style=\"text-align: right;\">\n",
              "      <th></th>\n",
              "      <th>Recency</th>\n",
              "      <th>Frequency</th>\n",
              "      <th>Monetary</th>\n",
              "      <th>R</th>\n",
              "      <th>F</th>\n",
              "      <th>M</th>\n",
              "      <th>RFM</th>\n",
              "      <th>RFM_Score</th>\n",
              "      <th>RFM_Avg_Score</th>\n",
              "    </tr>\n",
              "    <tr>\n",
              "      <th>CustomerID</th>\n",
              "      <th></th>\n",
              "      <th></th>\n",
              "      <th></th>\n",
              "      <th></th>\n",
              "      <th></th>\n",
              "      <th></th>\n",
              "      <th></th>\n",
              "      <th></th>\n",
              "      <th></th>\n",
              "    </tr>\n",
              "  </thead>\n",
              "  <tbody>\n",
              "    <tr>\n",
              "      <th>12346.0</th>\n",
              "      <td>326</td>\n",
              "      <td>1</td>\n",
              "      <td>77183.60</td>\n",
              "      <td>1</td>\n",
              "      <td>1</td>\n",
              "      <td>4</td>\n",
              "      <td>114</td>\n",
              "      <td>6</td>\n",
              "      <td>2.000000</td>\n",
              "    </tr>\n",
              "    <tr>\n",
              "      <th>12347.0</th>\n",
              "      <td>2</td>\n",
              "      <td>182</td>\n",
              "      <td>4310.00</td>\n",
              "      <td>4</td>\n",
              "      <td>4</td>\n",
              "      <td>4</td>\n",
              "      <td>444</td>\n",
              "      <td>12</td>\n",
              "      <td>4.000000</td>\n",
              "    </tr>\n",
              "    <tr>\n",
              "      <th>12348.0</th>\n",
              "      <td>75</td>\n",
              "      <td>31</td>\n",
              "      <td>1797.24</td>\n",
              "      <td>2</td>\n",
              "      <td>2</td>\n",
              "      <td>4</td>\n",
              "      <td>224</td>\n",
              "      <td>8</td>\n",
              "      <td>2.666667</td>\n",
              "    </tr>\n",
              "    <tr>\n",
              "      <th>12349.0</th>\n",
              "      <td>19</td>\n",
              "      <td>73</td>\n",
              "      <td>1757.55</td>\n",
              "      <td>3</td>\n",
              "      <td>3</td>\n",
              "      <td>4</td>\n",
              "      <td>334</td>\n",
              "      <td>10</td>\n",
              "      <td>3.333333</td>\n",
              "    </tr>\n",
              "    <tr>\n",
              "      <th>12350.0</th>\n",
              "      <td>310</td>\n",
              "      <td>17</td>\n",
              "      <td>334.40</td>\n",
              "      <td>1</td>\n",
              "      <td>1</td>\n",
              "      <td>2</td>\n",
              "      <td>112</td>\n",
              "      <td>4</td>\n",
              "      <td>1.333333</td>\n",
              "    </tr>\n",
              "    <tr>\n",
              "      <th>...</th>\n",
              "      <td>...</td>\n",
              "      <td>...</td>\n",
              "      <td>...</td>\n",
              "      <td>...</td>\n",
              "      <td>...</td>\n",
              "      <td>...</td>\n",
              "      <td>...</td>\n",
              "      <td>...</td>\n",
              "      <td>...</td>\n",
              "    </tr>\n",
              "    <tr>\n",
              "      <th>18280.0</th>\n",
              "      <td>278</td>\n",
              "      <td>10</td>\n",
              "      <td>180.60</td>\n",
              "      <td>1</td>\n",
              "      <td>1</td>\n",
              "      <td>1</td>\n",
              "      <td>111</td>\n",
              "      <td>3</td>\n",
              "      <td>1.000000</td>\n",
              "    </tr>\n",
              "    <tr>\n",
              "      <th>18281.0</th>\n",
              "      <td>181</td>\n",
              "      <td>7</td>\n",
              "      <td>80.82</td>\n",
              "      <td>1</td>\n",
              "      <td>1</td>\n",
              "      <td>1</td>\n",
              "      <td>111</td>\n",
              "      <td>3</td>\n",
              "      <td>1.000000</td>\n",
              "    </tr>\n",
              "    <tr>\n",
              "      <th>18282.0</th>\n",
              "      <td>8</td>\n",
              "      <td>12</td>\n",
              "      <td>178.05</td>\n",
              "      <td>4</td>\n",
              "      <td>1</td>\n",
              "      <td>1</td>\n",
              "      <td>411</td>\n",
              "      <td>6</td>\n",
              "      <td>2.000000</td>\n",
              "    </tr>\n",
              "    <tr>\n",
              "      <th>18283.0</th>\n",
              "      <td>4</td>\n",
              "      <td>756</td>\n",
              "      <td>2094.88</td>\n",
              "      <td>4</td>\n",
              "      <td>4</td>\n",
              "      <td>4</td>\n",
              "      <td>444</td>\n",
              "      <td>12</td>\n",
              "      <td>4.000000</td>\n",
              "    </tr>\n",
              "    <tr>\n",
              "      <th>18287.0</th>\n",
              "      <td>43</td>\n",
              "      <td>70</td>\n",
              "      <td>1837.28</td>\n",
              "      <td>3</td>\n",
              "      <td>3</td>\n",
              "      <td>4</td>\n",
              "      <td>334</td>\n",
              "      <td>10</td>\n",
              "      <td>3.333333</td>\n",
              "    </tr>\n",
              "  </tbody>\n",
              "</table>\n",
              "<p>4338 rows × 9 columns</p>\n",
              "</div>"
            ],
            "text/plain": [
              "            Recency  Frequency  Monetary  R  ...  M  RFM RFM_Score  RFM_Avg_Score\n",
              "CustomerID                                   ...                                 \n",
              "12346.0         326          1  77183.60  1  ...  4  114         6       2.000000\n",
              "12347.0           2        182   4310.00  4  ...  4  444        12       4.000000\n",
              "12348.0          75         31   1797.24  2  ...  4  224         8       2.666667\n",
              "12349.0          19         73   1757.55  3  ...  4  334        10       3.333333\n",
              "12350.0         310         17    334.40  1  ...  2  112         4       1.333333\n",
              "...             ...        ...       ... ..  ... ..  ...       ...            ...\n",
              "18280.0         278         10    180.60  1  ...  1  111         3       1.000000\n",
              "18281.0         181          7     80.82  1  ...  1  111         3       1.000000\n",
              "18282.0           8         12    178.05  4  ...  1  411         6       2.000000\n",
              "18283.0           4        756   2094.88  4  ...  4  444        12       4.000000\n",
              "18287.0          43         70   1837.28  3  ...  4  334        10       3.333333\n",
              "\n",
              "[4338 rows x 9 columns]"
            ]
          },
          "metadata": {
            "tags": []
          },
          "execution_count": 89
        }
      ]
    },
    {
      "cell_type": "markdown",
      "metadata": {
        "id": "_LZLmlQ8UN15"
      },
      "source": [
        "Let's identify customer segment by the RFM score into four group as follows :\n",
        "*   **Champion** : are top class of customer who bought recently, frequent purchased and highly spender. There have a high chance that this group will reccomend your brand to other.\n",
        "*   **Potential Loyalists** : are customers who bought recenty with average frequent purchased and spent a good amount.\n",
        "*   **At Risk Customers** : are customer who average frequent purchase and spent a good amout but not visit your store a little bit long time. It seem like this group they are fading away.\n",
        "*   **New Customers** : are customers who may rencently visit or highly spend amount but not frequent shoppers.\n",
        "\n",
        "****Note**\n",
        "To define the customers segment are depend on the business purpose and customer behavior. That not have a fixed way.\n",
        "\n",
        "\n"
      ]
    },
    {
      "cell_type": "code",
      "metadata": {
        "id": "nb3_9xTQ-oXF"
      },
      "source": [
        "def segments(df) :\n",
        "  if (df['R'] == 4) and (df['F'] == 4) and (df['M'] == 4) :\n",
        "    return 'Champion'\n",
        "  elif (df['R'] > 2) and (df['F'] > 2) and (df['M'] > 2) :\n",
        "    return 'Potential Loyalists'\n",
        "  elif (df['R'] >= 1) and (df['F'] > 1) and (df['M'] > 2) :\n",
        "    return 'At Risk Customers'\n",
        "  else :\n",
        "    return 'New Customer'"
      ],
      "execution_count": null,
      "outputs": []
    },
    {
      "cell_type": "code",
      "metadata": {
        "id": "i_ecbgCSQn2R"
      },
      "source": [
        "rfm['Segmentation'] = rfm.apply(segments,axis=1)"
      ],
      "execution_count": null,
      "outputs": []
    },
    {
      "cell_type": "markdown",
      "metadata": {
        "id": "4XRiL2Aac_IQ"
      },
      "source": [
        "The below table show average and number of customers of each RFM score. As you can see the average score of each group are different for reasonable, especially group of champion. The number of new customers and at risk customers are mostly high this may not  a good sign."
      ]
    },
    {
      "cell_type": "code",
      "metadata": {
        "id": "R13VLxOhlS71",
        "colab": {
          "base_uri": "https://localhost:8080/",
          "height": 235
        },
        "outputId": "e76e9c98-2c29-46ec-ea35-8cbbb37da882"
      },
      "source": [
        "rfm.groupby('Segmentation').agg({'Recency':'mean','Frequency':'mean',\n",
        "                                 'Monetary':['mean','count']}).round(1)"
      ],
      "execution_count": null,
      "outputs": [
        {
          "output_type": "execute_result",
          "data": {
            "text/html": [
              "<div>\n",
              "<style scoped>\n",
              "    .dataframe tbody tr th:only-of-type {\n",
              "        vertical-align: middle;\n",
              "    }\n",
              "\n",
              "    .dataframe tbody tr th {\n",
              "        vertical-align: top;\n",
              "    }\n",
              "\n",
              "    .dataframe thead tr th {\n",
              "        text-align: left;\n",
              "    }\n",
              "\n",
              "    .dataframe thead tr:last-of-type th {\n",
              "        text-align: right;\n",
              "    }\n",
              "</style>\n",
              "<table border=\"1\" class=\"dataframe\">\n",
              "  <thead>\n",
              "    <tr>\n",
              "      <th></th>\n",
              "      <th>Recency</th>\n",
              "      <th>Frequency</th>\n",
              "      <th colspan=\"2\" halign=\"left\">Monetary</th>\n",
              "    </tr>\n",
              "    <tr>\n",
              "      <th></th>\n",
              "      <th>mean</th>\n",
              "      <th>mean</th>\n",
              "      <th>mean</th>\n",
              "      <th>count</th>\n",
              "    </tr>\n",
              "    <tr>\n",
              "      <th>Segmentation</th>\n",
              "      <th></th>\n",
              "      <th></th>\n",
              "      <th></th>\n",
              "      <th></th>\n",
              "    </tr>\n",
              "  </thead>\n",
              "  <tbody>\n",
              "    <tr>\n",
              "      <th>At Risk Customers</th>\n",
              "      <td>102.1</td>\n",
              "      <td>76.8</td>\n",
              "      <td>1704.9</td>\n",
              "      <td>757</td>\n",
              "    </tr>\n",
              "    <tr>\n",
              "      <th>Champion</th>\n",
              "      <td>7.3</td>\n",
              "      <td>374.4</td>\n",
              "      <td>9319.2</td>\n",
              "      <td>447</td>\n",
              "    </tr>\n",
              "    <tr>\n",
              "      <th>New Customer</th>\n",
              "      <td>132.0</td>\n",
              "      <td>26.2</td>\n",
              "      <td>530.1</td>\n",
              "      <td>2286</td>\n",
              "    </tr>\n",
              "    <tr>\n",
              "      <th>Potential Loyalists</th>\n",
              "      <td>22.5</td>\n",
              "      <td>132.7</td>\n",
              "      <td>2645.5</td>\n",
              "      <td>848</td>\n",
              "    </tr>\n",
              "  </tbody>\n",
              "</table>\n",
              "</div>"
            ],
            "text/plain": [
              "                    Recency Frequency Monetary      \n",
              "                       mean      mean     mean count\n",
              "Segmentation                                        \n",
              "At Risk Customers     102.1      76.8   1704.9   757\n",
              "Champion                7.3     374.4   9319.2   447\n",
              "New Customer          132.0      26.2    530.1  2286\n",
              "Potential Loyalists    22.5     132.7   2645.5   848"
            ]
          },
          "metadata": {
            "tags": []
          },
          "execution_count": 179
        }
      ]
    },
    {
      "cell_type": "markdown",
      "metadata": {
        "id": "sZgK-PA7iWT1"
      },
      "source": [
        "The below graph show the size of area in each customers group. As you can see a half area are new customer and champion group are smallest area in the graph. This a sign indicate which this store must do something that \n",
        "stimulate purchase amount and returning back. **For example, new customer** group the store must be buid a good relationd ship with this group or provide the special offer to increase their visit. **At risk customer** group this group the store may back to explore the historical transaction which product thier had been bought and arrange the proper promotion for them to make a re purchase.  **Potential Loyalists** this group the store should find the solution to upsell them, such as reccomend related product or arrange a promotion for product that client never buy and probability buy. To increase their RFM score equal to the champion group.  "
      ]
    },
    {
      "cell_type": "code",
      "metadata": {
        "id": "tTym1jwymUkF",
        "colab": {
          "base_uri": "https://localhost:8080/",
          "height": 486
        },
        "outputId": "716245be-8326-489c-fea8-de2639b9e1b2"
      },
      "source": [
        "fig = plt.figure(figsize=(12, 8))\n",
        "squarify.plot(sizes=rfm['Segmentation'].value_counts(), \n",
        "              label=['New Customer', 'Potential Loyalists',\n",
        "                     'At Risk Customers', 'Champion'])\n",
        "plt.title(\"RFM Segments\",fontsize=18,fontweight=\"bold\")\n",
        "plt.axis('off')\n",
        "plt.show()"
      ],
      "execution_count": null,
      "outputs": [
        {
          "output_type": "display_data",
          "data": {
            "image/png": "[encoded data removed]",
            "text/plain": [
              "<Figure size 864x576 with 1 Axes>"
            ]
          },
          "metadata": {
            "tags": [],
            "needs_background": "light"
          }
        }
      ]
    },
    {
      "cell_type": "markdown",
      "metadata": {
        "id": "vbWsvKeItF8-"
      },
      "source": [
        "**Credits**\n",
        "*   https://clevertap.com/blog/rfm-analysis/?fbclid=IwAR04hiyFH7I0c0oORzcJZYcS_eGLdjS-UpLrehA1X1QkptF5NFlJgRsCAAc\n",
        "*   https://www.optimove.com/resources/learning-center/rfm-segmentation\n",
        "\n"
      ]
    }
  ]
}